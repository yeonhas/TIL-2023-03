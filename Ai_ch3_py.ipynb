{
  "nbformat": 4,
  "nbformat_minor": 0,
  "metadata": {
    "colab": {
      "provenance": [],
      "authorship_tag": "ABX9TyMXFoXvCoXFSFBy2u6Qi65N",
      "include_colab_link": true
    },
    "kernelspec": {
      "name": "python3",
      "display_name": "Python 3"
    },
    "language_info": {
      "name": "python"
    }
  },
  "cells": [
    {
      "cell_type": "markdown",
      "metadata": {
        "id": "view-in-github",
        "colab_type": "text"
      },
      "source": [
        "<a href=\"https://colab.research.google.com/github/yeonhas/TIL-2023-03/blob/main/Ai_ch3_py.ipynb\" target=\"_parent\"><img src=\"https://colab.research.google.com/assets/colab-badge.svg\" alt=\"Open In Colab\"/></a>"
      ]
    },
    {
      "cell_type": "code",
      "source": [
        "a = 10\n",
        "b = 20\n",
        "print(a+b)"
      ],
      "metadata": {
        "colab": {
          "base_uri": "https://localhost:8080/"
        },
        "id": "jC095TWyz_qD",
        "outputId": "e0b1e871-4433-4efd-f763-c976f2ace20e"
      },
      "execution_count": null,
      "outputs": [
        {
          "output_type": "stream",
          "name": "stdout",
          "text": [
            "30\n"
          ]
        }
      ]
    },
    {
      "cell_type": "markdown",
      "source": [
        "파이썬 기초\n",
        "실행 ctrl + enter\n",
        "\n",
        "numpy : 수식 계산 ㅡ libary : 행렬처리"
      ],
      "metadata": {
        "id": "XIY-wz1dLtH6"
      }
    },
    {
      "cell_type": "code",
      "source": [
        "import numpy as np\n",
        "np.cos(3.141592)\n",
        "\n",
        "print(np.round(0, 5),3)"
      ],
      "metadata": {
        "colab": {
          "base_uri": "https://localhost:8080/"
        },
        "id": "u8QQ8TGMz9vV",
        "outputId": "bd6f4786-dbfb-46c6-f6d9-7ed3b86e08ea"
      },
      "execution_count": null,
      "outputs": [
        {
          "output_type": "stream",
          "name": "stdout",
          "text": [
            "0 3\n"
          ]
        }
      ]
    },
    {
      "cell_type": "markdown",
      "source": [
        "### 파이썬 기초 : 비교, 반복"
      ],
      "metadata": {
        "id": "QvjA9M4w3LVs"
      }
    },
    {
      "cell_type": "code",
      "source": [
        "import numpy as np\n",
        "a = np.sin(1.7)\n",
        "if a>0:\n",
        "  print(\"sin값은 양수입니다\")\n",
        "else:\n",
        "  print(\"sin값은 음수입니다\") "
      ],
      "metadata": {
        "colab": {
          "base_uri": "https://localhost:8080/"
        },
        "id": "2Bzm6Knl1oGN",
        "outputId": "dedbd378-71ce-4e70-a694-3d29a661c0b0"
      },
      "execution_count": null,
      "outputs": [
        {
          "output_type": "stream",
          "name": "stdout",
          "text": [
            "sin값은 양수입니다\n"
          ]
        }
      ]
    },
    {
      "cell_type": "code",
      "source": [
        "cnt = 1\n",
        "while cnt < 11:\n",
        "  print(cnt)\n",
        "  cnt = cnt + 1"
      ],
      "metadata": {
        "colab": {
          "base_uri": "https://localhost:8080/"
        },
        "id": "iC3pWxS_1_8o",
        "outputId": "8488be1c-ddbd-4ab8-8416-57b337dfdc90"
      },
      "execution_count": null,
      "outputs": [
        {
          "output_type": "stream",
          "name": "stdout",
          "text": [
            "1\n",
            "2\n",
            "3\n",
            "4\n",
            "5\n",
            "6\n",
            "7\n",
            "8\n",
            "9\n",
            "10\n"
          ]
        }
      ]
    },
    {
      "cell_type": "code",
      "source": [
        "for x in range(1,11):\n",
        "  print(x)"
      ],
      "metadata": {
        "colab": {
          "base_uri": "https://localhost:8080/"
        },
        "id": "MTRIdQok2KVO",
        "outputId": "573e72f5-7e50-4a5e-e793-53f4b0e3a69e"
      },
      "execution_count": null,
      "outputs": [
        {
          "output_type": "stream",
          "name": "stdout",
          "text": [
            "1\n",
            "2\n",
            "3\n",
            "4\n",
            "5\n",
            "6\n",
            "7\n",
            "8\n",
            "9\n",
            "10\n"
          ]
        }
      ]
    },
    {
      "cell_type": "markdown",
      "source": [
        "### 파이썬 기초 : 리스트, 튜플, 딕셔너리, 집합\n",
        "\n",
        "\n",
        "---\n",
        "\n",
        "\n",
        "* 리스트(list) : 여러 개의 데이터 공간이 이어져 있는 데이터 타입으로 대괄호로 생성\n"
      ],
      "metadata": {
        "id": "-Hr0ZXmN5HgD"
      }
    },
    {
      "cell_type": "code",
      "source": [
        "vs = [1,3,'Hi', 8.5]\n",
        "print(vs)\n",
        "print(vs[2])\n",
        "vs[1]=5\n",
        "print(vs[0:2])\n",
        "\n",
        "print(vs[0:4])\n",
        "print(vs[0:3])\n",
        "print(vs[4:6])"
      ],
      "metadata": {
        "colab": {
          "base_uri": "https://localhost:8080/"
        },
        "id": "B-vB75b13fJy",
        "outputId": "dff9edfb-2f57-4de3-e0a2-b7bcfa107493"
      },
      "execution_count": null,
      "outputs": [
        {
          "output_type": "stream",
          "name": "stdout",
          "text": [
            "[1, 3, 'Hi', 8.5]\n",
            "Hi\n",
            "[1, 5]\n",
            "[1, 5, 'Hi', 8.5]\n",
            "[1, 5, 'Hi']\n",
            "[]\n"
          ]
        }
      ]
    },
    {
      "cell_type": "code",
      "source": [
        "vt=[]\n",
        "vt.append(1)\n",
        "vt.append(3)\n",
        "vt.append('Hi')\n",
        "print(vt)"
      ],
      "metadata": {
        "colab": {
          "base_uri": "https://localhost:8080/"
        },
        "id": "apxFtcjf4Ab6",
        "outputId": "de77d8d0-b838-4a86-d4f5-83774e28ad1d"
      },
      "execution_count": null,
      "outputs": [
        {
          "output_type": "stream",
          "name": "stdout",
          "text": [
            "[1, 3, 'Hi']\n"
          ]
        }
      ]
    },
    {
      "cell_type": "markdown",
      "source": [
        "\n",
        "\n",
        "---\n",
        "\n",
        "\n",
        "* 튜플(tuple) : 리스트와 유사하나 한번 만들면 수정할 수 없으며, 소괄호로 생성"
      ],
      "metadata": {
        "id": "wI3IEQcI4xq7"
      }
    },
    {
      "cell_type": "code",
      "source": [
        "vp = (3, 4, 'sup')\n",
        "print(vp)\n",
        "\n",
        "# vp(1)=5 : 튜플은 수정이 불가능하다"
      ],
      "metadata": {
        "colab": {
          "base_uri": "https://localhost:8080/"
        },
        "id": "5oPQKxyf4Lnx",
        "outputId": "b915bf83-f4f5-4c19-c803-23cd8384689f"
      },
      "execution_count": null,
      "outputs": [
        {
          "output_type": "stream",
          "name": "stdout",
          "text": [
            "(3, 4, 'sup')\n"
          ]
        }
      ]
    },
    {
      "cell_type": "markdown",
      "source": [
        "### 파이썬 기초 : 리스트, 튜플, 딕셔너리, 집합\n",
        "\n",
        "\n",
        "---\n",
        "* 딕셔너리(dictionary) : \n",
        " * key와 value를 쌍으로 가지는 데이터 타입\n",
        " * 연관 배열(associative arry)또는 해시(hash)\n",
        " * 순서가 없고 key를 검색하여 value를 얻으며, 중괄호로 생성\n"
      ],
      "metadata": {
        "id": "oLOoYCTP7KOq"
      }
    },
    {
      "cell_type": "code",
      "source": [
        "vd = {'Title' : 'Marvel Comics', 'Year' : 1950, 'Country' : 'USA', 5: 'uptown'}\n",
        "print(vd)\n",
        "vd['price']=5000\n",
        "print(vd)\n",
        "print(vd['Title'])"
      ],
      "metadata": {
        "colab": {
          "base_uri": "https://localhost:8080/"
        },
        "id": "hEX7pu6T_pKY",
        "outputId": "48a89b16-2e5f-455b-efeb-4e4179847adb"
      },
      "execution_count": null,
      "outputs": [
        {
          "output_type": "stream",
          "name": "stdout",
          "text": [
            "{'Title': 'Marvel Comics', 'Year': 1950, 'Country': 'USA', 5: 'uptown'}\n",
            "{'Title': 'Marvel Comics', 'Year': 1950, 'Country': 'USA', 5: 'uptown', 'price': 5000}\n",
            "Marvel Comics\n"
          ]
        }
      ]
    },
    {
      "cell_type": "markdown",
      "source": [
        "\n",
        "\n",
        "---\n",
        "\n",
        "\n",
        "* 집합(set) : 리스트, 딕셔너리와 유사하나 항목에 순서와 이름(key)이 없음"
      ],
      "metadata": {
        "id": "efvSSAni_oz4"
      }
    },
    {
      "cell_type": "code",
      "source": [
        "ve = {3,5,4}\n",
        "print(ve)\n",
        "ve.add(8)\n",
        "print(ve)"
      ],
      "metadata": {
        "colab": {
          "base_uri": "https://localhost:8080/"
        },
        "id": "OjF6X545Afpo",
        "outputId": "7dbef123-96ce-46d0-c4a4-83a98c8b8718"
      },
      "execution_count": null,
      "outputs": [
        {
          "output_type": "stream",
          "name": "stdout",
          "text": [
            "{3, 4, 5}\n",
            "{8, 3, 4, 5}\n"
          ]
        }
      ]
    },
    {
      "cell_type": "markdown",
      "source": [
        "### 파이썬 기초 : numpy\n",
        "\n",
        "* 복잡한 배열의 연산에 사용하는 library"
      ],
      "metadata": {
        "id": "nOgj3MG_C-8w"
      }
    },
    {
      "cell_type": "code",
      "source": [
        "import numpy as np\n",
        "n = np.array([[3,4,1,2],[8,2,4,9]])\n",
        "print(n)\n",
        "print(n.shape)"
      ],
      "metadata": {
        "colab": {
          "base_uri": "https://localhost:8080/"
        },
        "id": "2X_3pMVoDI_I",
        "outputId": "9017d062-ecb0-4876-8482-69ccf50bf98c"
      },
      "execution_count": null,
      "outputs": [
        {
          "output_type": "stream",
          "name": "stdout",
          "text": [
            "[[3 4 1 2]\n",
            " [8 2 4 9]]\n",
            "(2, 4)\n"
          ]
        }
      ]
    },
    {
      "cell_type": "code",
      "source": [
        "# zeros() 함수는 0으로 된 배열, ones() 함수는 1로 된 배열을 생성\n",
        "ne = np.zeros((3,5))\n",
        "ns = np.ones((3,5,2))"
      ],
      "metadata": {
        "id": "hSf1fT0hDugn"
      },
      "execution_count": null,
      "outputs": []
    },
    {
      "cell_type": "code",
      "source": [
        "# expend_dims : 차원을 추가\n",
        "n = np.expand_dims(n, 0) # 0번 차원을 추가\n",
        "n = np.expand_dims(n,-1) # n이 1차원 배열인 경우, 두 번째 차원 축(즉 1번 차원)을 추가 (가장 마지막 차원보다 하나 더 상위 차원 추가)"
      ],
      "metadata": {
        "id": "GaiBlWp2ELlQ"
      },
      "execution_count": null,
      "outputs": []
    },
    {
      "cell_type": "code",
      "source": [
        "# reshape : 배열의 모양을 변경\n",
        "n = np.array([[3,4,1,2],[8,2,4,9]])\n",
        "m = np.reshape(n, (4,2))\n",
        "print(n)\n",
        "print(m)"
      ],
      "metadata": {
        "colab": {
          "base_uri": "https://localhost:8080/"
        },
        "id": "WIaA3lEOEkyH",
        "outputId": "9d83b2f0-3675-4917-e6cb-e40ba4abbbc6"
      },
      "execution_count": null,
      "outputs": [
        {
          "output_type": "stream",
          "name": "stdout",
          "text": [
            "[[3 4 1 2]\n",
            " [8 2 4 9]]\n",
            "[[3 4]\n",
            " [1 2]\n",
            " [8 2]\n",
            " [4 9]]\n"
          ]
        }
      ]
    },
    {
      "cell_type": "markdown",
      "source": [
        "### 파이썬 기초 : numpy 및 사용자 함수\n",
        "* 다양한 함수들이 정의되어 있음\n",
        " * max : 최댓값, min : 최솟값, mean : 평균, std : 표준편차, sum : 합계"
      ],
      "metadata": {
        "id": "pI30D-7tKM1Y"
      }
    },
    {
      "cell_type": "code",
      "source": [
        "n = np.array([[3,4,1,2],[8,2,4,9]])\n",
        "mv = np.max(n)\n",
        "print(mv)\n",
        "\n",
        "a = np.min(n)\n",
        "b = np.mean(n)\n",
        "c = np.std(n)\n",
        "d = np.sum(n)\n",
        "\n",
        "print(a)\n",
        "print(b)\n",
        "print(c)\n",
        "print(d)"
      ],
      "metadata": {
        "colab": {
          "base_uri": "https://localhost:8080/"
        },
        "id": "kwKcqmmQKMg4",
        "outputId": "001c6540-7c53-4efa-ad3d-51e3e39c0da0"
      },
      "execution_count": null,
      "outputs": [
        {
          "output_type": "stream",
          "name": "stdout",
          "text": [
            "9\n",
            "1\n",
            "4.125\n",
            "2.7128168017763383\n",
            "33\n"
          ]
        }
      ]
    },
    {
      "cell_type": "code",
      "source": [
        "# argmax : 최댓값의 인덱스, argmin : 최솟값의 인덱스\n",
        "n = np.array([[3,4,1,2],[8,2,4,9]])\n",
        "mv = np.argmax(n)\n",
        "mx = np.argmin(n)\n",
        "print(mv)\n",
        "print(mx)"
      ],
      "metadata": {
        "colab": {
          "base_uri": "https://localhost:8080/"
        },
        "id": "XiaKyB45K1y6",
        "outputId": "a08f3a1e-b01a-407f-c40d-e21bb2e08680"
      },
      "execution_count": null,
      "outputs": [
        {
          "output_type": "stream",
          "name": "stdout",
          "text": [
            "7\n",
            "2\n"
          ]
        }
      ]
    },
    {
      "cell_type": "code",
      "source": [
        "# random : 임의의 수\n",
        "rd = np.random.rand()\n",
        "rc = np.random.rand(5,4)\n",
        "print(rc)"
      ],
      "metadata": {
        "colab": {
          "base_uri": "https://localhost:8080/"
        },
        "id": "8ArwglRTLXm5",
        "outputId": "2622701a-bd68-4af4-fa5c-9e664e678228"
      },
      "execution_count": null,
      "outputs": [
        {
          "output_type": "stream",
          "name": "stdout",
          "text": [
            "[[0.06597855 0.19406294 0.62717172 0.28783925]\n",
            " [0.59944942 0.8319608  0.05233632 0.09681336]\n",
            " [0.54353225 0.35426378 0.78352741 0.49617335]\n",
            " [0.37061734 0.07424452 0.18989519 0.69629135]\n",
            " [0.54552464 0.2740142  0.71447563 0.77510801]]\n"
          ]
        }
      ]
    },
    {
      "cell_type": "code",
      "source": [
        "# 사용자 정의 함수를 만들 때는 def 사용\n",
        "def add(v1, v2):\n",
        "  sum = v1 + v2\n",
        "  return sum\n",
        "\n",
        "v = add(3,6)\n",
        "print(v) "
      ],
      "metadata": {
        "colab": {
          "base_uri": "https://localhost:8080/"
        },
        "id": "ukqKgofxLi9x",
        "outputId": "40614762-feb8-4475-8264-e43d5550539e"
      },
      "execution_count": null,
      "outputs": [
        {
          "output_type": "stream",
          "name": "stdout",
          "text": [
            "9\n"
          ]
        }
      ]
    },
    {
      "cell_type": "markdown",
      "source": [],
      "metadata": {
        "id": "jaIUT-XBLsf6"
      }
    }
  ]
}